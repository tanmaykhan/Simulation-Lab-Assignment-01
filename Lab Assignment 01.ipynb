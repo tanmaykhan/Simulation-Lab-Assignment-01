{
  "nbformat": 4,
  "nbformat_minor": 0,
  "metadata": {
    "colab": {
      "provenance": []
    },
    "kernelspec": {
      "name": "python3",
      "display_name": "Python 3"
    },
    "language_info": {
      "name": "python"
    }
  },
  "cells": [
    {
      "cell_type": "code",
      "source": [
        "#Task 1 :- Generate two vectors with 15 random floats each, plot them on the same graph, label the axes, and add a title.\n",
        "import numpy as np\n",
        "import matplotlib.pyplot as plt\n",
        "\n",
        "vector1 = np.random.rand(15)\n",
        "vector2 = np.random.rand(15)\n",
        "\n",
        "plt.plot(vector1, label=\"Vector 1\")\n",
        "plt.plot(vector2, label=\"Vector 2\")\n",
        "\n",
        "plt.xlabel(\"Index\")\n",
        "plt.ylabel(\"Value\")\n",
        "plt.title(\"Plot of Two Random Vectors\")\n",
        "plt.legend()\n",
        "\n",
        "plt.show()\n"
      ],
      "metadata": {
        "id": "sbba5-nY_obq"
      },
      "execution_count": null,
      "outputs": []
    },
    {
      "cell_type": "code",
      "source": [
        "#Task 2 :- Create a 4x4 matrix with random values, visualize it as a heatmap, and label the rows and columns.\n",
        "\n",
        "import seaborn as sns\n",
        "\n",
        "matrix = np.random.rand(4, 4)\n",
        "\n",
        "sns.heatmap(matrix, annot=True, cmap=\"coolwarm\", cbar=True)\n",
        "\n",
        "plt.title(\"4x4 Random Matrix Heatmap\")\n",
        "plt.xlabel(\"Columns\")\n",
        "plt.ylabel(\"Rows\")\n",
        "\n",
        "plt.show()\n"
      ],
      "metadata": {
        "id": "cbh21Eo5Cnkl"
      },
      "execution_count": null,
      "outputs": []
    },
    {
      "cell_type": "code",
      "source": [
        "#Task 3 :- Generate two 4x4 matrices, perform addition, subtraction, and multiplication, visualize the results using bar plots, and discuss the effects.\n",
        "\n",
        "matrix1 = np.random.rand(4, 4)\n",
        "matrix2 = np.random.rand(4, 4)\n",
        "\n",
        "matrix_add = matrix1 + matrix2\n",
        "matrix_sub = matrix1 - matrix2\n",
        "matrix_mul = matrix1 * matrix2\n",
        "\n",
        "fig, ax = plt.subplots(1, 3, figsize=(15, 5))\n",
        "\n",
        "# Addition\n",
        "ax[0].bar(np.arange(4), matrix_add.mean(axis=1))\n",
        "ax[0].set_title(\"Addition (Row Means)\")\n",
        "\n",
        "# Subtraction\n",
        "ax[1].bar(np.arange(4), matrix_sub.mean(axis=1))\n",
        "ax[1].set_title(\"Subtraction (Row Means)\")\n",
        "\n",
        "# Multiplication\n",
        "ax[2].bar(np.arange(4), matrix_mul.mean(axis=1))\n",
        "ax[2].set_title(\"Multiplication (Row Means)\")\n",
        "\n",
        "plt.tight_layout()\n",
        "plt.show()\n"
      ],
      "metadata": {
        "id": "ndoVHle5C5e5"
      },
      "execution_count": null,
      "outputs": []
    }
  ]
}