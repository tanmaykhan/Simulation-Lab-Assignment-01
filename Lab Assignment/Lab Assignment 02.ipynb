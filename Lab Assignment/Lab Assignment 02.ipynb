{
  "nbformat": 4,
  "nbformat_minor": 0,
  "metadata": {
    "colab": {
      "provenance": []
    },
    "kernelspec": {
      "name": "python3",
      "display_name": "Python 3"
    },
    "language_info": {
      "name": "python"
    }
  },
  "cells": [
    {
      "cell_type": "code",
      "source": [
        "import numpy as np\n",
        "from sympy import Matrix\n",
        "import matplotlib.pyplot as plt\n",
        "import seaborn as sns\n",
        "\n",
        "#Task 01 - Use numpy to create a 3×3 matrix of random integers between 1 and 50.\n",
        "\n",
        "Matrix = np.random.randint(1, 51, size=(3, 3))\n",
        "\n",
        "print(\"3x3 Matrix of Random Integers Between 1 and 50: \")\n",
        "print(Matrix)\n"
      ],
      "metadata": {
        "id": "pS4M1G7ydV-d"
      },
      "execution_count": null,
      "outputs": []
    },
    {
      "cell_type": "code",
      "source": [
        "#Task 02 - Create a 3×3 matrix of random integers between 1 and 50 with a fixed seed (`np.random.seed(10)`) to ensure reproducibility.\n",
        "\n",
        "np.random.seed(10)\n",
        "\n",
        "matrix_fixed_seed = np.random.randint(1, 51, size=(3, 3))\n",
        "\n",
        "print(\"Matrix with Fixed Seed: \")\n",
        "print(matrix_fixed_seed)"
      ],
      "metadata": {
        "id": "I8P0skwcePtI"
      },
      "execution_count": null,
      "outputs": []
    },
    {
      "cell_type": "code",
      "source": [
        "#Task 03 - Create a 3×3 matrix without setting a seed, allowing random values to change each time\n",
        "\n",
        "matrix_random = np.random.randint(1, 51, size=(3, 3))\n",
        "\n",
        "print(\"Matrix without Fixed Seed:\")\n",
        "print(matrix_random)\n"
      ],
      "metadata": {
        "id": "16R6AWlMfEes"
      },
      "execution_count": null,
      "outputs": []
    },
    {
      "cell_type": "markdown",
      "source": [
        "# **Explanation:**\n",
        "\n",
        "We have tried to solve some tasks, which are :\n",
        "\n",
        "1. Use numpy to create a 3×3 matrix of random integers between 1 and 50.  \n",
        "2. With a fixed seed (`np.random.seed(10)`) to ensure reproducibility.  \n",
        "3. Without setting a seed, allowing random values to change each time.  "
      ],
      "metadata": {
        "id": "i3giwCNxhBBy"
      }
    },
    {
      "cell_type": "markdown",
      "source": [
        "# **Task 01 -**\n",
        "Use numpy to create a 3×3 matrix of random integers between 1 and 50."
      ],
      "metadata": {
        "id": "vhwoW05Ejv7e"
      }
    },
    {
      "cell_type": "markdown",
      "source": [
        "# **Task 02 -**\n",
        "**With a fixed seed (np.random.seed(10)) to ensure reproducibility:**\n",
        " By setting a fixed seed, we ensure that the random number generator starts at the same point every time the code is run. This means that the matrix generated will always be the same, regardless of how many times we execute the code. The specific numbers in the matrix will always be reproducible, which is useful when we want consistent results for testing or sharing code."
      ],
      "metadata": {
        "id": "piLHmLl_j9LZ"
      }
    },
    {
      "cell_type": "markdown",
      "source": [
        "# **Task 03 -**\n",
        "**Without setting a seed (Random values change each time):**\n",
        "When we generate random numbers without setting a seed, the results will be different every time we run the code. This is because the random number generator uses the current time or system state to produce new numbers. The randomness ensures that every execution of the code produces a different 3x3 matrix."
      ],
      "metadata": {
        "id": "RuUG36v7koiM"
      }
    },
    {
      "cell_type": "markdown",
      "source": [
        "**In summary :**\n",
        "\n",
        "**With a fixed seed (`np.random.seed(10)`) :** The matrix will remain the same on every execution, allowing for predictable and reproducible results.\n",
        "\n",
        "**With no fixed seed :** The matrix will be different on every execution due to the inherent randomness.\n",
        "\n",
        "This distinction is especially useful when debugging or collaborating with others, as a fixed seed ensures that everyone gets the same result when they run the code."
      ],
      "metadata": {
        "id": "ZB75eGCflxU6"
      }
    }
  ]
}